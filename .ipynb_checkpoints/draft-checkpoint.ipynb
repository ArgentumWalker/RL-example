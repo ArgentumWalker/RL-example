{
 "cells": [
  {
   "cell_type": "markdown",
   "metadata": {},
   "source": [
    "# Начало работы с PyCharm"
   ]
  },
  {
   "cell_type": "markdown",
   "metadata": {},
   "source": [
    "### Шаг 1. Откройте / создайте проект в PyCharm\n",
    "(Можно пропустить эту часть, если Вы уже писали программы в PyCharm)\n",
    "\n",
    "Зачем нужен проект?  \n",
    "Все, что Вы делаете в PyCharm, выполняется в контексте проекта. Он служит основой для поддержки кодирования, рефакторинга, согласованности стиля кодирования и т.д.\n",
    "\n",
    "У вас есть два варианта начать работу над проектом внутри среды IDE:\n",
    "1. Открыть существующий проект\n",
    "2. Создать проект с нуля\n",
    "\n",
    "Сегодня Вам необходимо создать новый проект. \n",
    "1. Для этого кликните на «Create New Project».\n",
    "2. В следующем окне будет два поля:  \n",
    "    * В первом укажите, где будет располагаться новый проект. Наример, /Users/macbook/PycharmProjects/untitled. \"untitled\" можно заменить на имя проекта, можете назвать свой проект \"MountainCar\".  \n",
    "    * Второе поле должно быть заполненным по умолчанию. Там содержится путь к установленному ранее Python. \n",
    "3. Дальше откроется окно самого редактора.\n",
    "    Теперь вы готовы начать писать программы на Python!\n",
    "    \n",
    "### Шаг 2. Первая программа \"Hello world\"\n",
    "\n",
    "1. Давайте проверим, как все работает. Для этого кликните правой кнопкой на название вашего проекта и в раскрывающемся списке выберите пункт «New > Python file».  \n",
    "    Появится окно, в котором вы можете задать имя файлу. Задайте какое-нибудь имя и нажмите «OK».\n",
    "2. Справа откроется сам файл. Пока он пустой.  \n",
    "    Скопируйте в него следующий код:  \n",
    "        print(\"Hello, World!\")  \n",
    "    Этот код выводит в консоль строку `Hello, World!`.\n",
    "3.  Теперь нужно запустить нашу небольшую (1 строка) программу. Для этого в верхнем меню перейдите в «Run > Run…».  \n",
    "    В появившемся окне щелкните по названию вашего файла. Теперь программа запустится.  \n",
    "    В нижней части редактора должна появиться консоль с результатом выполнения нашей программы: Hello world  \n",
    "    \n",
    "##### Поздравляем! Вы запустили свою программу"
   ]
  },
  {
   "cell_type": "markdown",
   "metadata": {},
   "source": [
    "# DQN и MountainCar\n",
    "### Вступление\n",
    "\n",
    "Привет! Сегодня мы вместе реализуем алгоритм DDQN, который является одним из основных методов deep reinforcement learning, показывающий достаточно высокие результаты на большом количестве задач.\n",
    "\n",
    "Сегодня мы научим машину заезжать на горку. Mountain Car - это классическая задача обучения с подкреплением, цель которой состоит в том, чтобы создать алгоритм, который научится подниматься по крутому склону, чтобы достичь цели, отмеченной флагом. Двигатель автомобиля недостаточно силен, чтобы подняться в гору без разгона, поэтому автомобиль должен подняться по левому склону, чтобы набрать достаточный импульс, чтобы взобраться по крутому правому склону и достичь цели."
   ]
  },
  {
   "cell_type": "markdown",
   "metadata": {},
   "source": [
    "### Вспомогательные библиотеки\n",
    "Для начала разберемся с тем, что мы будем использовать.  \n",
    "Во-первых, нам понадобится Python. Желательно Python 3.5 или более новой версии.  \n",
    "Во-вторых, нам потребуются следующие библиотеки для Python:\n",
    "* `gym` - Общий интерфейс для многих сред RL. Команда для установки: `pip install gym`\n",
    "* `numpy` - Библиотека для работы с математикой. Команда для установки: `pip install numpy`\n",
    "* `pytorch` - Фреймворк для реализации и обучения нейронных сетей. [Инструкция по установке](https://pytorch.org/get-started/locally/)\n",
    "* `matplotlib` - Потребуется нам для отображения картинок и графиков. Команда для установки: `pip install matplotlib`\n",
    "\n",
    "После установки всего необходимого, нужно импортировать все нужные нам библиотеки:"
   ]
  },
  {
   "cell_type": "code",
   "execution_count": 1,
   "metadata": {},
   "outputs": [],
   "source": [
    "import gym\n",
    "import matplotlib.pyplot as plt\n",
    "import copy\n",
    "import random\n",
    "import numpy as np\n",
    "from collections import deque\n",
    "# PyTorch\n",
    "import torch\n",
    "from torch import nn\n",
    "from torch import optim\n",
    "import torch.nn.functional as F\n",
    "\n",
    "# Устройство, на котором будет работать PyTorch.\n",
    "device = torch.device(\"cpu\")"
   ]
  },
  {
   "cell_type": "markdown",
   "metadata": {},
   "source": [
    "##### Gym\n",
    "Сегодня мы рассмотрим задачу MountainCar, ее можно настроить при помощи Gym от компании OpenAI – это одна из самых популярных библиотек для решения задач на обучение с подкреплением.   \n",
    "\n",
    "Давайте посмотрим, как будет отображаться наша среда. Все модели и интерфейс для этой задачи уже сконфигурированы в gym и поименованы под MountainCar. Давайте создадим окружение `env.reset()`. И попросим отрисовать `env.render()`."
   ]
  },
  {
   "cell_type": "code",
   "execution_count": 2,
   "metadata": {},
   "outputs": [
    {
     "name": "stdout",
     "output_type": "stream",
     "text": [
      "\u001b[33mWARN: gym.spaces.Box autodetected dtype as <class 'numpy.float32'>. Please provide explicit dtype.\u001b[0m\n"
     ]
    },
    {
     "data": {
      "text/plain": [
       "True"
      ]
     },
     "execution_count": 2,
     "metadata": {},
     "output_type": "execute_result"
    }
   ],
   "source": [
    "# Create environment\n",
    "env = gym.make(\"MountainCar-v0\")\n",
    "state = env.reset()\n",
    "# Show window with rendered Car\n",
    "env.render()"
   ]
  },
  {
   "cell_type": "markdown",
   "metadata": {},
   "source": [
    "##### MountainCar: описание\n",
    "\n",
    "Теперь попробуем запустить окржужение, и сделать 3 случайных шага.\n",
    "\n",
    "Изначально автомобиль падает в окружение, получая начальное положение и скорость в виде вектора при инициализации окружения `env.reset()`. Это начальное состояние агента.  \n",
    "\n",
    "Затем  агент должен выполнить одно из трех действий: ехать налево, ничего не делать или ехать направо.  \n",
    "В данном примере дейсвие выбирается случайным образом `action = env.action_space.sample()`.  \n",
    "\n",
    "Это действие отправляется в окружение Mountain Car `env.step(action)`, который возвращает новое состояние (положение и скорость), а также награду. \n",
    "\n",
    "Подсчет награды:  \n",
    "За каждый шаг, когда машина не достигает цели, расположенной в вверхнем правом углу, среда возвращает награду -1.\n",
    "\n",
    "##### MountainCar: случайный алгоритм\n",
    "Далее Вы можете посмотреть, чему равны каждый из описанных выше атрибутов окружения: `action, observation, reward, done, info`  на первых трех шагах алгоритма, при условии случайного выбора дейсвия."
   ]
  },
  {
   "cell_type": "code",
   "execution_count": 3,
   "metadata": {},
   "outputs": [
    {
     "name": "stdout",
     "output_type": "stream",
     "text": [
      "Step 0:\n",
      "action: 0\n",
      "observation: [-0.50795221 -0.00112574]\n",
      "reward: -1.0\n",
      "done: False\n",
      "info: {}\n",
      "\n",
      "Step 1:\n",
      "action: 1\n",
      "observation: [-0.50919526 -0.00124305]\n",
      "reward: -1.0\n",
      "done: False\n",
      "info: {}\n",
      "\n",
      "Step 2:\n",
      "action: 0\n",
      "observation: [-0.51154629 -0.00235104]\n",
      "reward: -1.0\n",
      "done: False\n",
      "info: {}\n",
      "\n",
      "Step 3:\n",
      "action: 1\n",
      "observation: [-0.51398771 -0.00244141]\n",
      "reward: -1.0\n",
      "done: False\n",
      "info: {}\n",
      "\n",
      "Step 4:\n",
      "action: 1\n",
      "observation: [-0.51650119 -0.00251349]\n",
      "reward: -1.0\n",
      "done: False\n",
      "info: {}\n",
      "\n",
      "Step 5:\n",
      "action: 2\n",
      "observation: [-0.5180679  -0.00156671]\n",
      "reward: -1.0\n",
      "done: False\n",
      "info: {}\n",
      "\n",
      "Step 6:\n",
      "action: 0\n",
      "observation: [-0.5206761  -0.00260819]\n",
      "reward: -1.0\n",
      "done: False\n",
      "info: {}\n",
      "\n",
      "Step 7:\n",
      "action: 2\n",
      "observation: [-0.52230621 -0.00163011]\n",
      "reward: -1.0\n",
      "done: False\n",
      "info: {}\n",
      "\n",
      "Step 8:\n",
      "action: 0\n",
      "observation: [-0.52494602 -0.00263981]\n",
      "reward: -1.0\n",
      "done: False\n",
      "info: {}\n",
      "\n",
      "Step 9:\n",
      "action: 0\n",
      "observation: [-0.52857572 -0.0036297 ]\n",
      "reward: -1.0\n",
      "done: False\n",
      "info: {}\n",
      "\n"
     ]
    }
   ],
   "source": [
    "def play_a_random_game_first():\n",
    "    goal_steps = 10\n",
    "\n",
    "    for step_index in range(goal_steps):\n",
    "        env.render()\n",
    "        action = env.action_space.sample()\n",
    "        observation, reward, done, info = env.step(action)\n",
    "        \n",
    "        print(\"Step {}:\".format(step_index))\n",
    "        print(\"action: {}\".format(action))\n",
    "        print(\"observation: {}\".format(observation))\n",
    "        print(\"reward: {}\".format(reward))\n",
    "        print(\"done: {}\".format(done))\n",
    "        print(\"info: {}\".format(info))\n",
    "        print()\n",
    "        if done:\n",
    "            break\n",
    "    env.reset()\n",
    "\n",
    "play_a_random_game_first()"
   ]
  },
  {
   "cell_type": "markdown",
   "metadata": {},
   "source": [
    "### Обучение нейронных сетей\n",
    "Поскольку DQN представляет собой нейронную сеть, то ее надо обучатьна каких-то данных. \n",
    "\n",
    "Обучение можно производить тремя методами: \n",
    "* стохастический метод (stochastic)   \n",
    "    Метод работает по следующему принципу — ставится один эксперемент, далее считается  Δw, и сразу по ним обновляютсяи соответствующие веса нейронной сети.  \n",
    "    Этот метод является самым точным.\n",
    "* пакетный метод (batch)  \n",
    "    Пакетный метод работает по-другому. Проводиться несколько эксперементов, и далее  суммируются Δw всех весов на текущей итерации. И только потом обновляем все веса используя эту сумму.  \n",
    "    Один из самых важных плюсов такого подхода — это значительная экономия времени на вычисление.  \n",
    "    Однако,точность же в таком случае может сильно пострадать.\n",
    "* мини-пакетный метод (mini-batch)  \n",
    "    Мини-пакетный метод является золотой серединой и пытается совместить в себе плюсы обоих методов. Здесь принцип таков: Δw полученные в ходе эксперементов, в свободном порядке распределяем  по группам. И далее внутри каждой группы вычисляется сумма Δw, и в соответсвие с ней меняются веса нейронной сети.\n",
    "\n",
    "##### Адаптация для обучения с подкреплением\n",
    "Обычно батчи (пакеты) выбираются случайно из набора данных, однако, в нашем случае набора данных нет, как было бы в случае распознования картинок, когда заранее дан размеченный датасет. В данном случае есть только среда и возможность взаимодействовать с ней.  \n",
    "Решение этой проблемы очень простое: давайте создадим буфер ограниченного размера, в который будем складывать replay (атрибуты окружения: `action, observation, reward, done, info`) , полученные в результате взаимодействия со средой.  \n",
    "При этом надо учесть, что случайно сгенерированные данные могут сожержать странные состояния, по которой не хочется обучаться, поэтому удаляем самые старые, если не хватает места. Этот буфер мы будем считать нашим набором данных и брать батчи прямо из него."
   ]
  },
  {
   "cell_type": "code",
   "execution_count": 4,
   "metadata": {},
   "outputs": [],
   "source": [
    "class Memory:\n",
    "    def __init__(self, capacity):\n",
    "        self.capacity = capacity\n",
    "        self.memory = []\n",
    "        self.position = 0\n",
    "\n",
    "    def push(self, element):\n",
    "        \"\"\"Сохраняет элемент в циклический буфер\"\"\"\n",
    "        if len(self.memory) < self.capacity:\n",
    "            self.memory.append(None)\n",
    "        self.memory[self.position] = element\n",
    "        self.position = (self.position + 1) % self.capacity\n",
    "\n",
    "    def sample(self, batch_size):\n",
    "        \"\"\"Возвращает случайную выборку указанного размера\"\"\"\n",
    "        return random.sample(self.memory, batch_size)\n",
    "    \n",
    "    def clear(self):\n",
    "        self.memory = []\n",
    "        self.position = 0\n",
    "\n",
    "    def __len__(self):\n",
    "        return len(self.memory)\n",
    "\n",
    "\n",
    "memory = Memory(5000)"
   ]
  },
  {
   "cell_type": "markdown",
   "metadata": {},
   "source": [
    "### Описание архитектуры нейронной сети\n",
    "Теперь пришло время описать архитектуру самой нейронной сети. Первые три слоя - сверточные, затем идет один линейный слой, которой выделяет признаки и в конце слой, который комбинирует эти признаки в Q-function для каждого действия в данном состоянии"
   ]
  },
  {
   "cell_type": "code",
   "execution_count": 5,
   "metadata": {},
   "outputs": [],
   "source": [
    "def create_new_model():\n",
    "    model = nn.Sequential(\n",
    "        nn.Linear(2, 32),\n",
    "        nn.ReLU(),\n",
    "        nn.Linear(32, 32),\n",
    "        nn.ReLU(),\n",
    "        nn.Linear(32, 3)\n",
    "    )\n",
    "\n",
    "    target_model = copy.deepcopy(model)\n",
    "    \n",
    "    #Инициализация весов нейронной сети\n",
    "    def init_weights(layer):\n",
    "        if type(layer) == nn.Linear:\n",
    "            nn.init.xavier_normal(layer.weight)\n",
    "\n",
    "    model.apply(init_weights)\n",
    "    \n",
    "    #Загружаем модель на устройство, определенное в самом начале (GPU или CPU)\n",
    "    model.train()\n",
    "    target_model.train()\n",
    "    model.to(device)\n",
    "    target_model.to(device)\n",
    "    \n",
    "    #Сразу зададим оптимизатор, с помощью которого будем обновлять веса модели\n",
    "    optimizer = optim.Adam(model.parameters(), lr=0.00003)\n",
    "    \n",
    "    return model, target_model, optimizer"
   ]
  },
  {
   "cell_type": "markdown",
   "metadata": {},
   "source": [
    "Также нужно описать функцию, которая будет по батчу считать функцию потерь и запускать обновление весов"
   ]
  },
  {
   "cell_type": "code",
   "execution_count": 6,
   "metadata": {},
   "outputs": [],
   "source": [
    "gamma = 0.99\n",
    "\n",
    "def fit(batch):\n",
    "        state, action, reward, next_state, done = batch\n",
    "        # Загружаем батч на выбранное ранее устройство\n",
    "        state = torch.tensor(state).to(device).float()\n",
    "        next_state = torch.tensor(next_state).to(device).float()\n",
    "        reward = torch.tensor(reward).to(device).float()\n",
    "        action = torch.tensor(action).to(device)\n",
    "\n",
    "        # Считаем то, какие значения должна выдавать наша сеть\n",
    "        target_q = torch.zeros(reward.size()[0]).float().to(device)\n",
    "        with torch.no_grad():\n",
    "            # Выбираем максимальное из значений Q-function для следующего состояяния\n",
    "            target_q[done] = target_model(next_state).max(1)[0].detach()[done]\n",
    "        target_q = reward + target_q * gamma\n",
    "\n",
    "        #Current approximation\n",
    "        q = model(state).gather(1, action.unsqueeze(1))\n",
    "\n",
    "        loss = F.smooth_l1_loss(q, target_q.unsqueeze(1))\n",
    "\n",
    "        # Очищаем текущие градиенты внутри сети\n",
    "        optimizer.zero_grad()\n",
    "        # Применяем обратное распространение  ошибки\n",
    "        loss.backward()\n",
    "        # Ограничиваем значения градиента. Необходимо, чтобы обновления не были слишком большими\n",
    "        for param in model.parameters():\n",
    "            param.grad.data.clamp_(-1, 1)\n",
    "        # Делаем шаг оптимизации\n",
    "        optimizer.step()"
   ]
  },
  {
   "cell_type": "markdown",
   "metadata": {},
   "source": [
    "Также опишем ε-greedy политику, которая совершает случайное действие с вероятностью ε в целях исследования среды."
   ]
  },
  {
   "cell_type": "code",
   "execution_count": 7,
   "metadata": {},
   "outputs": [],
   "source": [
    "def select_action(state, epsilon):\n",
    "    if random.random() < epsilon:\n",
    "        return random.randint(0, 2)\n",
    "    return model(torch.tensor(state).to(device).float().unsqueeze(0))[0].max(0)[1].view(1, 1).item()"
   ]
  },
  {
   "cell_type": "markdown",
   "metadata": {},
   "source": [
    "### Пришло время, наконец, обучить нашу модель"
   ]
  },
  {
   "cell_type": "code",
   "execution_count": 8,
   "metadata": {},
   "outputs": [],
   "source": [
    "def exploit(render=False):\n",
    "    state = env.reset()\n",
    "    r = 0.\n",
    "    done = False\n",
    "    while not done:\n",
    "        # Exploitation происходит без exploration\n",
    "        epsilon = 0.\n",
    "        if render:\n",
    "                env.render()\n",
    "        action = select_action(state, epsilon)\n",
    "        state, reward, done, _ = env.step(action)\n",
    "        r += reward\n",
    "    return r"
   ]
  },
  {
   "cell_type": "code",
   "execution_count": 12,
   "metadata": {},
   "outputs": [
    {
     "name": "stderr",
     "output_type": "stream",
     "text": [
      "C:\\Users\\ArgentumWalker\\Anaconda3\\lib\\site-packages\\ipykernel_launcher.py:15: UserWarning: nn.init.xavier_normal is now deprecated in favor of nn.init.xavier_normal_.\n",
      "  from ipykernel import kernelapp as app\n"
     ]
    },
    {
     "data": {
      "image/png": "[encoded data removed]",
      "text/plain": [
       "<matplotlib.figure.Figure at 0x1e5f6f72c88>"
      ]
     },
     "metadata": {},
     "output_type": "display_data"
    }
   ],
   "source": [
    "random.seed(1)\n",
    "target_update = 1000\n",
    "batch_size = 128\n",
    "def train_base():\n",
    "    reward_by_update = []\n",
    "    max_step = 20001\n",
    "    state = env.reset()\n",
    "    for step in range(1, max_step):\n",
    "        # Exploration Rate decay\n",
    "        epsilon = 1 - 0.9 * step / max_step\n",
    "        action = select_action(state, epsilon)\n",
    "        new_state, reward, done, _ = env.step(action)\n",
    "\n",
    "        if done:\n",
    "            memory.push((state, action, reward, new_state, done))\n",
    "            state = env.reset()\n",
    "            done = False\n",
    "        else:\n",
    "            memory.push((state, action, reward, new_state, done))\n",
    "            state = new_state\n",
    "\n",
    "        if step > batch_size:\n",
    "            fit(list(zip(*memory.sample(batch_size))))\n",
    "\n",
    "        if step % target_update == 0:\n",
    "            target_model = copy.deepcopy(model)\n",
    "            state = env.reset()\n",
    "            r = exploit(False)\n",
    "            reward_by_update.append(r)\n",
    "        \n",
    "    return reward_by_update\n",
    "\n",
    "            \n",
    "model, target_model, optimizer = create_new_model()\n",
    "memory.clear()\n",
    "reward_by_update = train_base()\n",
    "\n",
    "plt.plot(list(range(len(reward_by_update))), reward_by_update)\n",
    "plt.show()"
   ]
  },
  {
   "cell_type": "markdown",
   "metadata": {},
   "source": [
    "Ой, кажется наш агент так ничему и не научился! Что же пошло не так? "
   ]
  },
  {
   "cell_type": "markdown",
   "metadata": {},
   "source": [
    "### Reward Shaping\n",
    "Все дело в том, что сейчас чтобы агент научился въезжать на холм, он должен несколько раз туда заехать случайно, чтобы понять, что это приносит ему большую суммарную награду. Поскольку вознаграждение агента никогда не изменяется до успешного завершения эпизода. Однако заехать на холм просто совершая случайные действия крайне маловероятно, из-за чего автомобиль не научился заезжать на холм.  \n",
    "\n",
    "Одним из способов решения этой проблемы является Reward Shaping - изменение функции награды с учетом нашего знания особенностей задачи для того, чтобы подсказать агенту, как нужно действовать в данной ситуации.\n",
    "\n",
    "В качестве модификации функции  награды используем модуль текущей скорости как аддитивную добавку."
   ]
  },
  {
   "cell_type": "code",
   "execution_count": 13,
   "metadata": {},
   "outputs": [
    {
     "name": "stderr",
     "output_type": "stream",
     "text": [
      "C:\\Users\\ArgentumWalker\\Anaconda3\\lib\\site-packages\\ipykernel_launcher.py:15: UserWarning: nn.init.xavier_normal is now deprecated in favor of nn.init.xavier_normal_.\n",
      "  from ipykernel import kernelapp as app\n"
     ]
    },
    {
     "data": {
      "image/png": "[encoded data removed]",
      "text/plain": [
       "<matplotlib.figure.Figure at 0x1e5f6f9f320>"
      ]
     },
     "metadata": {},
     "output_type": "display_data"
    }
   ],
   "source": [
    "random.seed(1)\n",
    "def train_shaped():\n",
    "    reward_by_update = []\n",
    "    max_step = 20001\n",
    "    state = env.reset()\n",
    "    for step in range(1, max_step):\n",
    "        epsilon = 1 - 0.9 * step / max_step\n",
    "        action = select_action(state, epsilon)\n",
    "        new_state, reward, done, _ = env.step(action)\n",
    "\n",
    "        if done:\n",
    "            memory.push((state, action, reward, state, done))\n",
    "            state = env.reset()\n",
    "            done = False\n",
    "        else:\n",
    "            # Единственное отличие в этой строке. К награде добавили модуль скорости с коэффициентом\n",
    "            memory.push((state, action, reward + 5 * abs(new_state[1]), new_state, done))\n",
    "            state = new_state\n",
    "\n",
    "        if step > batch_size:\n",
    "            fit(list(zip(*memory.sample(batch_size))))\n",
    "\n",
    "        if step % target_update == 0:\n",
    "            target_model = copy.deepcopy(model)\n",
    "            state = env.reset()\n",
    "            r = exploit(False)\n",
    "            reward_by_update.append(r)\n",
    "            \n",
    "    return reward_by_update\n",
    "    \n",
    "model, target_model, optimizer = create_new_model()\n",
    "memory.clear()\n",
    "reward_by_update = train_shaped()\n",
    "\n",
    "plt.plot(list(range(len(reward_by_update))), reward_by_update)\n",
    "plt.show()"
   ]
  },
  {
   "cell_type": "markdown",
   "metadata": {},
   "source": [
    "### Ура! Модель начала обучаться! И автомобиль смог заехать на гору!"
   ]
  },
  {
   "cell_type": "code",
   "execution_count": null,
   "metadata": {},
   "outputs": [],
   "source": []
  }
 ],
 "metadata": {
  "kernelspec": {
   "display_name": "Python 3",
   "language": "python",
   "name": "python3"
  },
  "language_info": {
   "codemirror_mode": {
    "name": "ipython",
    "version": 3
   },
   "file_extension": ".py",
   "mimetype": "text/x-python",
   "name": "python",
   "nbconvert_exporter": "python",
   "pygments_lexer": "ipython3",
   "version": "3.5.5"
  }
 },
 "nbformat": 4,
 "nbformat_minor": 2
}
