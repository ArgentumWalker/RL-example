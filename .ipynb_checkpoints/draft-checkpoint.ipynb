{
 "cells": [
  {
   "cell_type": "markdown",
   "metadata": {},
   "source": [
    "# Начало работы с PyCharm"
   ]
  },
  {
   "cell_type": "code",
   "execution_count": null,
   "metadata": {},
   "outputs": [],
   "source": []
  },
  {
   "cell_type": "markdown",
   "metadata": {},
   "source": [
    "# DQN и MountainCar\n",
    "### Вступление\n",
    "\n",
    "Привет! Сегодня мы вместе реализуем алгоритм DDQN, который является одним из самых простых методов deep reinforcement learning, однако при этом показывает достаточно высокие результаты на большом количестве задач."
   ]
  },
  {
   "cell_type": "markdown",
   "metadata": {},
   "source": [
    "### Требования\n",
    "Для начала разберемся с тем, что мы будем использовать. Во-первых, нам понадобится Python 3.5+ и Linux (к сожалению, некоторые библиотеки могут некорректно работать с другими ОС). Во-вторых, нам потребуются следующие библиотеки для Python:\n",
    "* `gym` - Общий интерфейс для многих сред RL. Команда для установки: `pip install gym`\n",
    "* `numpy` - Библиотека для работы с математикой. Команда для установки: `pip install numpy`\n",
    "* `pytorch` - Фреймворк для реализации и обучения нейронных сетей. [Инструкция по установке](https://pytorch.org/get-started/locally/)\n",
    "* `matplotlib` - Потребуется нам для отображения картинок и графиков. Команда для установки: `pip install matplotlib`\n",
    "\n",
    "После установки всего необходимого, нужно импортировать все нужные нам библиотеки в скрипт:"
   ]
  },
  {
   "cell_type": "code",
   "execution_count": 36,
   "metadata": {},
   "outputs": [],
   "source": [
    "import gym\n",
    "import matplotlib.pyplot as plt\n",
    "import copy\n",
    "import random\n",
    "import numpy as np\n",
    "from collections import deque\n",
    "import torch\n",
    "from torch import nn\n",
    "from torch import optim\n",
    "import torch.nn.functional as F\n",
    "\n",
    "from IPython import display\n",
    "\n",
    "#Определяем, можем ли использовать cuda для вычислений на GPU\n",
    "device = torch.device(\"cuda\" if torch.cuda.is_available() else \"cpu\")"
   ]
  },
  {
   "cell_type": "markdown",
   "metadata": {},
   "source": [
    "### До создания модели\n",
    "Теперь создадим окружение, на котором будем тестировать алгоритм. В качестве примера будем использовать игру *PacMan*"
   ]
  },
  {
   "cell_type": "code",
   "execution_count": 26,
   "metadata": {},
   "outputs": [
    {
     "name": "stdout",
     "output_type": "stream",
     "text": [
      "\u001b[33mWARN: gym.spaces.Box autodetected dtype as <class 'numpy.float32'>. Please provide explicit dtype.\u001b[0m\n"
     ]
    }
   ],
   "source": [
    "# Create environment\n",
    "env = gym.make(\"MountainCar-v0\")\n",
    "state = env.reset()"
   ]
  },
  {
   "cell_type": "markdown",
   "metadata": {},
   "source": [
    "Поскольку DQN представляет собой нейронную сеть, то обучаться она будет, как и любая другая нейронная сеть, при помощи батчей. Обычно батчи выбираются случайно из набора данных, однако в нашем случае его нет, а есть только среда и возможность взаимодействовать с ней. Решение этой проблемы очень простое: давайте создадим буфер ограниченного размера, в который будем складывать replay'и, полученные в результате взаимодействия со средой, при этом удаляя самые старые, если не хватает места. Этот буфер мы будем считать нашим набором данных и брать батчи прямо из него."
   ]
  },
  {
   "cell_type": "code",
   "execution_count": 47,
   "metadata": {},
   "outputs": [],
   "source": [
    "class Memory:\n",
    "    def __init__(self, capacity):\n",
    "        self.capacity = capacity\n",
    "        self.memory = []\n",
    "        self.position = 0\n",
    "\n",
    "    def push(self, element):\n",
    "        \"\"\"Сохраняет элемент в циклический буфер\"\"\"\n",
    "        if len(self.memory) < self.capacity:\n",
    "            self.memory.append(None)\n",
    "        self.memory[self.position] = element\n",
    "        self.position = (self.position + 1) % self.capacity\n",
    "\n",
    "    def sample(self, batch_size):\n",
    "        return random.sample(self.memory, batch_size)\n",
    "    \n",
    "    def clear(self):\n",
    "        self.memory = []\n",
    "        self.position = 0\n",
    "\n",
    "    def __len__(self):\n",
    "        return len(self.memory)\n",
    "\n",
    "\n",
    "memory = Memory(5000)"
   ]
  },
  {
   "cell_type": "markdown",
   "metadata": {},
   "source": [
    "### Описание модели\n",
    "Теперь пришло время описать архитектуру самой нейронной сети. Первые три слоя - сверточные, затем идет один линейный слой, которой выделяет признаки и в конце слой, который комбинирует эти признаки в Q-function для каждого действия в данном состоянии"
   ]
  },
  {
   "cell_type": "code",
   "execution_count": 57,
   "metadata": {},
   "outputs": [],
   "source": [
    "def create_new_model():\n",
    "    model = nn.Sequential(\n",
    "        nn.Linear(2, 32),\n",
    "        nn.ReLU(),\n",
    "        nn.Linear(32, 32),\n",
    "        nn.ReLU(),\n",
    "        nn.Linear(32, 3)\n",
    "    )\n",
    "\n",
    "    target_model = copy.deepcopy(model)\n",
    "    \n",
    "    #Инициализация весов нейронной сети\n",
    "    def init_weights(layer):\n",
    "        if type(layer) == nn.Linear:\n",
    "            nn.init.xavier_normal(layer.weight)\n",
    "\n",
    "    model.apply(init_weights)\n",
    "    \n",
    "    #Загружаем модель на устройство, определенное в самом начале (GPU или CPU)\n",
    "    model.train()\n",
    "    target_model.train()\n",
    "    model.to(device)\n",
    "    target_model.to(device)\n",
    "    \n",
    "    #Сразу зададим оптимизатор, с помощью которого будем обновлять веса модели\n",
    "    optimizer = optim.Adam(model.parameters(), lr=0.00003)\n",
    "    \n",
    "    return model, target_model, optimizer"
   ]
  },
  {
   "cell_type": "markdown",
   "metadata": {},
   "source": [
    "Также нужно описать функцию, которая будет по батчу считать функцию потерь и запускать обновление весов"
   ]
  },
  {
   "cell_type": "code",
   "execution_count": 29,
   "metadata": {},
   "outputs": [],
   "source": [
    "gamma = 0.99\n",
    "\n",
    "def fit(batch):\n",
    "        state, action, reward, next_state, done = batch\n",
    "        # Загружаем батч на выбранное ранее устройство\n",
    "        state = torch.tensor(state).to(device).float()\n",
    "        next_state = torch.tensor(next_state).to(device).float()\n",
    "        reward = torch.tensor(reward).to(device).float()\n",
    "        action = torch.tensor(action).to(device)\n",
    "\n",
    "        # Считаем то, какие значения должна выдавать наша сеть\n",
    "        target_q = torch.zeros(reward.size()[0]).float().to(device)\n",
    "        with torch.no_grad():\n",
    "            # Выбираем максимальное из значений Q-function для следующего состояяния\n",
    "            target_q[done] = target_model(next_state).max(1)[0].detach()\n",
    "        target_q = reward + target_q * gamma\n",
    "\n",
    "        #Current approximation\n",
    "        q = model(state).gather(1, action.unsqueeze(1))\n",
    "\n",
    "        loss = F.smooth_l1_loss(q, target_q.unsqueeze(1))\n",
    "\n",
    "        # Очищаем текущие градиенты внутри сети\n",
    "        optimizer.zero_grad()\n",
    "        # Применяем обратное распространение  ошибки\n",
    "        loss.backward()\n",
    "        # Ограничиваем значения градиента. Необходимо, чтобы обновления не были слишком большими\n",
    "        for param in model.parameters():\n",
    "            param.grad.data.clamp_(-1, 1)\n",
    "        # Делаем шаг оптимизации\n",
    "        optimizer.step()"
   ]
  },
  {
   "cell_type": "markdown",
   "metadata": {},
   "source": [
    "Также опишем $\\Epsilon$-greedy политику, которая совершает случайное действие с вероятностью $\\Epsilon$ в целях исследования среды."
   ]
  },
  {
   "cell_type": "code",
   "execution_count": 77,
   "metadata": {},
   "outputs": [],
   "source": [
    "def select_action(state, epsilon):\n",
    "    if random.random() < epsilon:\n",
    "        return random.randint(0, 2)\n",
    "    return model(torch.tensor(state).to(device).float().unsqueeze(0))[0].max(0)[1].view(1, 1).item()"
   ]
  },
  {
   "cell_type": "markdown",
   "metadata": {},
   "source": [
    "### Пришло время, наконец, обучить нашу модель"
   ]
  },
  {
   "cell_type": "code",
   "execution_count": 60,
   "metadata": {},
   "outputs": [],
   "source": [
    "def exploit(render=False):\n",
    "    state = env.reset()\n",
    "    r = 0.\n",
    "    done = False\n",
    "    while not done:\n",
    "        # Exploitation происходит без exploration\n",
    "        epsilon = 0.\n",
    "        if render:\n",
    "                env.render()\n",
    "        action = select_action(state, epsilon)\n",
    "        state, reward, done, _ = env.step(action)\n",
    "        r += reward\n",
    "    return r"
   ]
  },
  {
   "cell_type": "code",
   "execution_count": 64,
   "metadata": {},
   "outputs": [
    {
     "data": {
      "image/png": "[encoded data removed]",
      "text/plain": [
       "<Figure size 432x288 with 1 Axes>"
      ]
     },
     "metadata": {},
     "output_type": "display_data"
    },
    {
     "data": {
      "image/png": "[encoded data removed]",
      "text/plain": [
       "<Figure size 432x288 with 1 Axes>"
      ]
     },
     "metadata": {
      "needs_background": "light"
     },
     "output_type": "display_data"
    }
   ],
   "source": [
    "target_update = 1000\n",
    "batch_size = 128\n",
    "def train_base():\n",
    "    reward_by_update = []\n",
    "    max_step = 20001\n",
    "    state = env.reset()\n",
    "    for step in range(1, max_step):\n",
    "        # Exploration Rate decay\n",
    "        epsilon = 1 - 0.9 * step / max_step\n",
    "        action = select_action(state, epsilon)\n",
    "        new_state, reward, done, _ = env.step(action)\n",
    "\n",
    "        if done:\n",
    "            memory.push((state, action, reward, state, done))\n",
    "            state = env.reset()\n",
    "            done = False\n",
    "        else:\n",
    "            memory.push((state, action, reward, new_state, done))\n",
    "            state = new_state\n",
    "\n",
    "        if step > batch_size:\n",
    "            fit(list(zip(*memory.sample(batch_size))))\n",
    "\n",
    "        if step % target_update == 0:\n",
    "            target_model = copy.deepcopy(model)\n",
    "            state = env.reset()\n",
    "            r = exploit(True)\n",
    "            reward_by_update.append(r)\n",
    "            \n",
    "            plt.clf()\n",
    "            plt.plot(list(range(len(reward_by_update))), reward_by_update)\n",
    "            display.clear_output(wait=True)\n",
    "            display.display(plt.gcf())\n",
    "\n",
    "            \n",
    "model, target_model, optimizer = create_new_model()\n",
    "memory.clear()\n",
    "train_base()"
   ]
  },
  {
   "cell_type": "markdown",
   "metadata": {},
   "source": [
    "Ой, кажется наш агент так ничему и не научился! Что же пошло не так? Все дело в том, что сейчас чтобы агент научился въезжать на холм, он должен несколько раз туда заехать случайно, чтобы понять, что это приносит ему большую суммарную награду. Однако заехать на холм просто совершая случайные действия крайне маловероятно, из-за чего он не может получить достаточно опыта удачного въезжания на холм. "
   ]
  },
  {
   "cell_type": "markdown",
   "metadata": {},
   "source": [
    "### Reward Shaping\n",
    "Одним из способов решения этой проблемы является Reward Shaping - изменение функции награды с учетом нашего знания особенностей задачи для того, чтобы подсказать агенту, как нужно действовать в данной ситуации.\n",
    "\n",
    "В качестве модификации функции  награды используем модуль текущей скорости как аддитивную добавку."
   ]
  },
  {
   "cell_type": "code",
   "execution_count": 65,
   "metadata": {},
   "outputs": [
    {
     "data": {
      "image/png": "[encoded data removed]",
      "text/plain": [
       "<Figure size 432x288 with 1 Axes>"
      ]
     },
     "metadata": {},
     "output_type": "display_data"
    },
    {
     "data": {
      "image/png": "[encoded data removed]",
      "text/plain": [
       "<Figure size 432x288 with 1 Axes>"
      ]
     },
     "metadata": {
      "needs_background": "light"
     },
     "output_type": "display_data"
    }
   ],
   "source": [
    "def train_shaped():\n",
    "    reward_by_update = []\n",
    "    max_step = 20001\n",
    "    state = env.reset()\n",
    "    for step in range(1, max_step):\n",
    "        epsilon = 1 - 0.9 * step / max_step\n",
    "        action = select_action(state, epsilon)\n",
    "        new_state, reward, done, _ = env.step(action)\n",
    "\n",
    "        if done:\n",
    "            memory.push((state, action, reward, state, done))\n",
    "            state = env.reset()\n",
    "            done = False\n",
    "        else:\n",
    "            # Единственное отличие в этой строке. К награде добавили модуль скорости с коэффициентом\n",
    "            memory.push((state, action, reward + 3 * abs(new_state[1]), new_state, done))\n",
    "            state = new_state\n",
    "\n",
    "        if step > batch_size:\n",
    "            fit(list(zip(*memory.sample(batch_size))))\n",
    "\n",
    "        if step % target_update == 0:\n",
    "            target_model = copy.deepcopy(model)\n",
    "            state = env.reset()\n",
    "            r = exploit(True)\n",
    "            reward_by_update.append(r)\n",
    "            \n",
    "            plt.clf()\n",
    "            plt.plot(list(range(len(reward_by_update))), reward_by_update)\n",
    "            display.clear_output(wait=True)\n",
    "            display.display(plt.gcf())\n",
    "    \n",
    "model, target_model, optimizer = create_new_model()\n",
    "memory.clear()\n",
    "train_shaped()"
   ]
  },
  {
   "cell_type": "code",
   "execution_count": null,
   "metadata": {},
   "outputs": [],
   "source": []
  }
 ],
 "metadata": {
  "kernelspec": {
   "display_name": "Python 3",
   "language": "python",
   "name": "python3"
  },
  "language_info": {
   "codemirror_mode": {
    "name": "ipython",
    "version": 3
   },
   "file_extension": ".py",
   "mimetype": "text/x-python",
   "name": "python",
   "nbconvert_exporter": "python",
   "pygments_lexer": "ipython3",
   "version": "3.6.4"
  }
 },
 "nbformat": 4,
 "nbformat_minor": 2
}
